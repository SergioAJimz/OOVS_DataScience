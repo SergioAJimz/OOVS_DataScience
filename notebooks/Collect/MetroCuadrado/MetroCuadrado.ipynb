{
 "cells": [
  {
   "cell_type": "markdown",
   "metadata": {
    "application/vnd.databricks.v1+cell": {
     "cellMetadata": {},
     "inputWidgets": {},
     "nuid": "f1725730-b5ce-4893-826b-b7b94a4add98",
     "showTitle": false,
     "title": ""
    },
    "id": "Cg3RiJTEGv2N"
   },
   "source": [
    "#Recolección datos M2"
   ]
  },
  {
   "cell_type": "code",
   "execution_count": 0,
   "metadata": {
    "application/vnd.databricks.v1+cell": {
     "cellMetadata": {},
     "inputWidgets": {},
     "nuid": "865ae143-c9fb-4755-8d65-5d7cbf1d184f",
     "showTitle": false,
     "title": ""
    },
    "colab": {
     "base_uri": "https://localhost:8080/"
    },
    "id": "_RZewhDSG1r7",
    "outputId": "275438d2-2ae5-46a2-eb3c-5455f355a8d6"
   },
   "outputs": [],
   "source": [
    "from google.colab import drive\n",
    "drive.mount('/content/drive')"
   ]
  },
  {
   "cell_type": "code",
   "execution_count": 0,
   "metadata": {
    "application/vnd.databricks.v1+cell": {
     "cellMetadata": {},
     "inputWidgets": {},
     "nuid": "fa5eb896-ea86-43b9-897b-9de86e126ef1",
     "showTitle": false,
     "title": ""
    },
    "id": "TrMRT_PvGh3m"
   },
   "outputs": [],
   "source": [
    "!pip install pygeohash\n",
    "!pip install geopandas\n",
    "!pip install polygeohasher\n",
    "!pip install contextily\n",
    "!pip install matplotlib\n",
    "!pip install shapely\n",
    "!pip install gmaps\n",
    "!pip install ipywidgets\n",
    "!pip install widgetsnbextension\n",
    "!pip install pysal"
   ]
  },
  {
   "cell_type": "code",
   "execution_count": 0,
   "metadata": {
    "application/vnd.databricks.v1+cell": {
     "cellMetadata": {},
     "inputWidgets": {},
     "nuid": "13a90068-c3c3-40fc-94db-6fa3e1acebea",
     "showTitle": false,
     "title": ""
    },
    "id": "AGSPJxVxIWuD"
   },
   "outputs": [],
   "source": [
    "from shapely.geometry import Polygon\n",
    "from geopandas import GeoSeries\n",
    "import pandas as pd\n",
    "import geopandas as gpd\n",
    "import contextily as ctx\n",
    "import matplotlib.pyplot as plt\n",
    "from polygeohasher import polygeohasher\n",
    "\n",
    "def MallaCaptura(poligono):\n",
    "  #toma el poligono y lo convierte en una Geoserie\n",
    "  g = GeoSeries(Bta)\n",
    "  #toma la geoserio y la convierte en Geo data frame\n",
    "  gdf = gpd.GeoDataFrame(geometry=g)\n",
    "  # Tamaño de celda\n",
    "  # https://www.geospatialworld.net/blogs/polygeohasher-an-optimized-way-to-create-geohashes/\n",
    "  primary_df = polygeohasher.create_geohash_list(gdf, 5,inner=False)\n",
    "  geo_df = polygeohasher.geohashes_to_geometry(primary_df,\"geohash_list\").set_crs('epsg:4326')\n",
    "  # Asigna las coordenadas del geohash a cada vertice\n",
    "  geohash_bta = pd.concat([geo_df,geo_df.geometry.bounds], axis=1)\n",
    "  return geohash_bta\n"
   ]
  },
  {
   "cell_type": "code",
   "execution_count": 0,
   "metadata": {
    "application/vnd.databricks.v1+cell": {
     "cellMetadata": {},
     "inputWidgets": {},
     "nuid": "6fd45dcb-87d3-4769-a5cc-f9ff77ebc55a",
     "showTitle": false,
     "title": ""
    },
    "colab": {
     "base_uri": "https://localhost:8080/"
    },
    "id": "qHagoVWDJCIx",
    "outputId": "87e6a77f-d96d-418b-9bb6-8e4010887dd7"
   },
   "outputs": [],
   "source": [
    "Bta = Polygon([(-74.24835205078124, 4.468272728744618),(-73.99497985839844, 4.468272728744618),(-73.99497985839844, 4.837154404509952),(-74.24835205078124,4.837154404509952)])\n",
    "Malla = MallaCaptura(Bta)\n",
    "#.explore(height='70')"
   ]
  },
  {
   "cell_type": "code",
   "execution_count": 0,
   "metadata": {
    "application/vnd.databricks.v1+cell": {
     "cellMetadata": {},
     "inputWidgets": {},
     "nuid": "9b9f4169-8890-4d9e-8a3c-de1226797d5e",
     "showTitle": false,
     "title": ""
    },
    "id": "p8USA9gVWwJ0"
   },
   "outputs": [],
   "source": [
    "Malla.explore()"
   ]
  },
  {
   "cell_type": "code",
   "execution_count": 0,
   "metadata": {
    "application/vnd.databricks.v1+cell": {
     "cellMetadata": {},
     "inputWidgets": {},
     "nuid": "6715c4e3-9b53-44f8-a043-5ec05cbf00aa",
     "showTitle": false,
     "title": ""
    },
    "id": "RCJt3TiuQI1w"
   },
   "outputs": [],
   "source": [
    "import numpy as np\n",
    "\n",
    "text_query='{{\"queries\":[{\"types\":[\"propertiesByFiltersQuery\"],\"filter\":{\"propertyTypeId\":{\"values\":[\"1\"]},\"businessTypeId\":{\"values\":[\"2\"]},\"status\":{\"values\":[\"Usado\"]},\"priceRange\":{\"values\":[\"0\",\"100000000000000000\"]},\"geoShape\":{\"values\":%s}}}]}'\n",
    "\n",
    "\n",
    "Malla['geoShape']=Malla['geometry'].apply(lambda x: text_query %(str([list(map(str, punto[::-1])) for punto in np.dstack(x.boundary.coords.xy).tolist()[0]])))\n"
   ]
  },
  {
   "cell_type": "code",
   "execution_count": 0,
   "metadata": {
    "application/vnd.databricks.v1+cell": {
     "cellMetadata": {},
     "inputWidgets": {},
     "nuid": "0382bb91-2ccc-4c6f-9e2b-310a317df7c4",
     "showTitle": false,
     "title": ""
    },
    "colab": {
     "base_uri": "https://localhost:8080/"
    },
    "id": "ammjisKgjVXF",
    "outputId": "4c1f8fc2-c420-4ee1-b7c7-9304136ef759"
   },
   "outputs": [],
   "source": [
    "for a in Malla['geoShape'].values.tolist():\n",
    "  print(a.replace(\"'\",'\"'))"
   ]
  },
  {
   "cell_type": "code",
   "execution_count": 0,
   "metadata": {
    "application/vnd.databricks.v1+cell": {
     "cellMetadata": {},
     "inputWidgets": {},
     "nuid": "00b38358-d931-498e-9503-96c884089fd2",
     "showTitle": false,
     "title": ""
    },
    "colab": {
     "base_uri": "https://localhost:8080/"
    },
    "id": "lACSywoqoH5W",
    "outputId": "9eb5f7ef-7eb7-425b-afaa-4b7d52939f0a"
   },
   "outputs": [],
   "source": [
    "!pip install requests-oauthlib"
   ]
  },
  {
   "cell_type": "code",
   "execution_count": 0,
   "metadata": {
    "application/vnd.databricks.v1+cell": {
     "cellMetadata": {},
     "inputWidgets": {},
     "nuid": "a225ea26-f1d3-4223-ae85-0c123bee6793",
     "showTitle": false,
     "title": ""
    },
    "colab": {
     "base_uri": "https://localhost:8080/"
    },
    "id": "Pt_lclMmOo8X",
    "outputId": "7cd3dd1f-e6e7-41c7-9b98-87127bbcef18"
   },
   "outputs": [],
   "source": [
    "import requests\n",
    "import json\n",
    "\n",
    "from requests.auth import HTTPBasicAuth\n",
    "\n",
    "\n",
    "url='https://commons-api.metrocuadrado.com/v1/api/commons/queries?content-type=application/json'\n",
    "\n",
    "headers = {'x-api-key':'6JgwwXGxlC921DP4SB4ST6Jo6OO7rv3t4yXn5Y8y'}\n",
    "\n",
    "\n",
    "dic = json.loads('{\"queries\":[{\"types\":[\"propertiesByFiltersQuery\"],\"filter\":{\"neighborhoodId\":{\"values\":[\"0001-1384\"]},\"propertyTypeId\":{\"values\":[\"1\"]},\"businessTypeId\":{\"values\":[\"2\"]},\"status\":{\"values\":[\"Usado\"]},\"priceRange\":{\"values\":[\"0\",\"100000000000000000\"]},\"geoShape\":{\"values\":[[\"4.679023840322769\",\"-74.08829825950835\"],[\"4.675002226534648\",\"-74.09065784909697\"],[\"4.67583649937833\",\"-74.08744022693068\"]]}}}]}')\n",
    "\n",
    "\n",
    "requests.get(url, data=headers)"
   ]
  },
  {
   "cell_type": "code",
   "execution_count": 0,
   "metadata": {
    "application/vnd.databricks.v1+cell": {
     "cellMetadata": {},
     "inputWidgets": {},
     "nuid": "e721f85a-a198-4da0-9922-e6c62fc9d6a5",
     "showTitle": false,
     "title": ""
    },
    "id": "rodsVlEtG_tH"
   },
   "outputs": [],
   "source": [
    "\n",
    "\n",
    "\n",
    "\n",
    "text = text_query % ()"
   ]
  }
 ],
 "metadata": {
  "application/vnd.databricks.v1+notebook": {
   "dashboards": [],
   "language": "python",
   "notebookMetadata": {
    "pythonIndentUnit": 4
   },
   "notebookName": "MetroCuadrado",
   "widgets": {}
  },
  "colab": {
   "provenance": []
  },
  "kernelspec": {
   "display_name": "Python 3",
   "name": "python3"
  },
  "language_info": {
   "name": "python"
  }
 },
 "nbformat": 4,
 "nbformat_minor": 0
}
