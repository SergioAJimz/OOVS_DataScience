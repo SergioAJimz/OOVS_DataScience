{
 "cells": [
  {
   "cell_type": "markdown",
   "metadata": {
    "application/vnd.databricks.v1+cell": {
     "cellMetadata": {},
     "inputWidgets": {},
     "nuid": "773342d4-05af-416a-9986-169bb1b78245",
     "showTitle": false,
     "title": ""
    }
   },
   "source": [
    "# captura de información Ciencuadras."
   ]
  },
  {
   "cell_type": "code",
   "execution_count": 0,
   "metadata": {
    "application/vnd.databricks.v1+cell": {
     "cellMetadata": {
      "byteLimit": 2048000,
      "rowLimit": 10000
     },
     "inputWidgets": {},
     "nuid": "686e610b-c913-4314-96e8-9fc7ee7aff4c",
     "showTitle": false,
     "title": ""
    }
   },
   "outputs": [],
   "source": [
    "from pyspark.sql import SparkSession\n",
    "from pyspark import StorageLevel\n",
    "from sedona.utils import SedonaKryoRegistrator, KryoSerializer\n",
    "\n",
    "from sedona.register.geo_registrator import SedonaRegistrator\n",
    "\n",
    "spark = (\n",
    "    SparkSession.builder.master(\"local[*]\")\n",
    "    .appName(\"Sedona App\")\n",
    "    .config(\"spark.serializer\", KryoSerializer.getName)\n",
    "    .config(\"spark.kryo.registrator\", SedonaKryoRegistrator.getName)\n",
    "    .getOrCreate()\n",
    ")\n",
    "\n",
    "SedonaRegistrator.registerAll(spark)"
   ]
  },
  {
   "cell_type": "code",
   "execution_count": 0,
   "metadata": {
    "application/vnd.databricks.v1+cell": {
     "cellMetadata": {
      "byteLimit": 2048000,
      "rowLimit": 10000
     },
     "inputWidgets": {},
     "nuid": "118e804d-b86b-4d66-8566-dbbe416c0aac",
     "showTitle": false,
     "title": ""
    }
   },
   "outputs": [],
   "source": [
    "%run ./config"
   ]
  },
  {
   "cell_type": "code",
   "execution_count": 0,
   "metadata": {
    "application/vnd.databricks.v1+cell": {
     "cellMetadata": {
      "byteLimit": 2048000,
      "rowLimit": 10000
     },
     "inputWidgets": {},
     "nuid": "00ef83d9-b1b4-42b0-826f-d766ec18b3f3",
     "showTitle": false,
     "title": ""
    }
   },
   "outputs": [],
   "source": [
    "#!/usr/bin/env python3\n",
    "# -*- coding: utf-8 -*-\n",
    "\"\"\"\n",
    "Created on March 22 - 2022\n",
    "\n",
    "@author: alexander Robles\n",
    "\"\"\"\n",
    "import requests\n",
    "import pandas as pd\n",
    "import json\n",
    "\n",
    "step_cap= {\n",
    "    'ciencuadras': [raw_arriendo, raw_venta,raw_Proyectos_Nuevos],\n",
    "}\n",
    "\n",
    "\n",
    "def Ciencuadras_Request(url, raw):\n",
    "    r = requests.post(url, data=raw)\n",
    "    json_body = json.loads(raw)\n",
    "    #name file\n",
    "    name = json_body['pathurl']\n",
    "    #_____\n",
    "    data = json.loads(r.content)\n",
    "    \n",
    "    paginas = data['data']['totalPages']\n",
    "    df = pd.DataFrame(json.loads(r.content)['data']['result'])\n",
    "    for p in range(2,paginas):\n",
    "        json_body['numberPaginator']=p\n",
    "        raw_mod = json.dumps(json_body)\n",
    "        r = requests.post(url, data=raw_mod)\n",
    "        df_new = pd.DataFrame(json.loads(r.content)['data']['result'])\n",
    "        df = pd.concat([df,df_new])\n",
    "        #print(p)\n",
    "    return df, name"
   ]
  },
  {
   "cell_type": "code",
   "execution_count": 0,
   "metadata": {
    "application/vnd.databricks.v1+cell": {
     "cellMetadata": {
      "byteLimit": 2048000,
      "rowLimit": 10000
     },
     "inputWidgets": {},
     "nuid": "6108f41c-099c-48e2-aa5e-a637bb726fc6",
     "showTitle": false,
     "title": ""
    }
   },
   "outputs": [],
   "source": [
    "for k,v in step_cap.items():\n",
    "    if k == 'ciencuadras':\n",
    "        for transaction in v:\n",
    "            to_export, nombre = Ciencuadras_Request(url_ciencuadras, transaction)\n",
    "            to_export.shape"
   ]
  },
  {
   "cell_type": "code",
   "execution_count": 0,
   "metadata": {
    "application/vnd.databricks.v1+cell": {
     "cellMetadata": {
      "byteLimit": 2048000,
      "rowLimit": 10000
     },
     "inputWidgets": {},
     "nuid": "1f6971f5-63d9-4b25-8510-d668e7dcbeaf",
     "showTitle": false,
     "title": ""
    }
   },
   "outputs": [],
   "source": [
    "to_export.head()"
   ]
  }
 ],
 "metadata": {
  "application/vnd.databricks.v1+notebook": {
   "dashboards": [],
   "language": "python",
   "notebookMetadata": {
    "pythonIndentUnit": 4
   },
   "notebookName": "Captura Ciencuadras",
   "widgets": {}
  }
 },
 "nbformat": 4,
 "nbformat_minor": 0
}
